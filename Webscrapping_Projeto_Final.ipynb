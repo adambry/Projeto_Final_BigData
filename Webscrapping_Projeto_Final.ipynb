{
  "nbformat": 4,
  "nbformat_minor": 0,
  "metadata": {
    "colab": {
      "provenance": []
    },
    "kernelspec": {
      "name": "python3",
      "display_name": "Python 3"
    },
    "language_info": {
      "name": "python"
    }
  },
  "cells": [
    {
      "cell_type": "code",
      "source": [
        "!pip install selenium"
      ],
      "metadata": {
        "colab": {
          "base_uri": "https://localhost:8080/"
        },
        "id": "7ytC7wzsLGGW",
        "outputId": "9ee88692-627e-4bea-acd8-eee4603029fc"
      },
      "execution_count": null,
      "outputs": [
        {
          "output_type": "stream",
          "name": "stdout",
          "text": [
            "Collecting selenium\n",
            "  Downloading selenium-4.15.2-py3-none-any.whl (10.2 MB)\n",
            "\u001b[2K     \u001b[90m━━━━━━━━━━━━━━━━━━━━━━━━━━━━━━━━━━━━━━━━\u001b[0m \u001b[32m10.2/10.2 MB\u001b[0m \u001b[31m58.4 MB/s\u001b[0m eta \u001b[36m0:00:00\u001b[0m\n",
            "\u001b[?25hRequirement already satisfied: urllib3[socks]<3,>=1.26 in /usr/local/lib/python3.10/dist-packages (from selenium) (2.0.7)\n",
            "Collecting trio~=0.17 (from selenium)\n",
            "  Downloading trio-0.23.1-py3-none-any.whl (448 kB)\n",
            "\u001b[2K     \u001b[90m━━━━━━━━━━━━━━━━━━━━━━━━━━━━━━━━━━━━━━━━\u001b[0m \u001b[32m448.3/448.3 kB\u001b[0m \u001b[31m39.1 MB/s\u001b[0m eta \u001b[36m0:00:00\u001b[0m\n",
            "\u001b[?25hCollecting trio-websocket~=0.9 (from selenium)\n",
            "  Downloading trio_websocket-0.11.1-py3-none-any.whl (17 kB)\n",
            "Requirement already satisfied: certifi>=2021.10.8 in /usr/local/lib/python3.10/dist-packages (from selenium) (2023.7.22)\n",
            "Requirement already satisfied: attrs>=20.1.0 in /usr/local/lib/python3.10/dist-packages (from trio~=0.17->selenium) (23.1.0)\n",
            "Requirement already satisfied: sortedcontainers in /usr/local/lib/python3.10/dist-packages (from trio~=0.17->selenium) (2.4.0)\n",
            "Requirement already satisfied: idna in /usr/local/lib/python3.10/dist-packages (from trio~=0.17->selenium) (3.4)\n",
            "Collecting outcome (from trio~=0.17->selenium)\n",
            "  Downloading outcome-1.3.0.post0-py2.py3-none-any.whl (10 kB)\n",
            "Requirement already satisfied: sniffio>=1.3.0 in /usr/local/lib/python3.10/dist-packages (from trio~=0.17->selenium) (1.3.0)\n",
            "Requirement already satisfied: exceptiongroup>=1.0.0rc9 in /usr/local/lib/python3.10/dist-packages (from trio~=0.17->selenium) (1.1.3)\n",
            "Collecting wsproto>=0.14 (from trio-websocket~=0.9->selenium)\n",
            "  Downloading wsproto-1.2.0-py3-none-any.whl (24 kB)\n",
            "Requirement already satisfied: pysocks!=1.5.7,<2.0,>=1.5.6 in /usr/local/lib/python3.10/dist-packages (from urllib3[socks]<3,>=1.26->selenium) (1.7.1)\n",
            "Collecting h11<1,>=0.9.0 (from wsproto>=0.14->trio-websocket~=0.9->selenium)\n",
            "  Downloading h11-0.14.0-py3-none-any.whl (58 kB)\n",
            "\u001b[2K     \u001b[90m━━━━━━━━━━━━━━━━━━━━━━━━━━━━━━━━━━━━━━━━\u001b[0m \u001b[32m58.3/58.3 kB\u001b[0m \u001b[31m9.6 MB/s\u001b[0m eta \u001b[36m0:00:00\u001b[0m\n",
            "\u001b[?25hInstalling collected packages: outcome, h11, wsproto, trio, trio-websocket, selenium\n",
            "Successfully installed h11-0.14.0 outcome-1.3.0.post0 selenium-4.15.2 trio-0.23.1 trio-websocket-0.11.1 wsproto-1.2.0\n"
          ]
        }
      ]
    },
    {
      "cell_type": "code",
      "source": [
        "!pip install requests beautifulsoup4"
      ],
      "metadata": {
        "colab": {
          "base_uri": "https://localhost:8080/"
        },
        "id": "J83Mby2_LOmm",
        "outputId": "f50001c1-bbfd-4b80-c3d8-11f7f3767c51"
      },
      "execution_count": null,
      "outputs": [
        {
          "output_type": "stream",
          "name": "stdout",
          "text": [
            "Requirement already satisfied: requests in /usr/local/lib/python3.10/dist-packages (2.31.0)\n",
            "Requirement already satisfied: beautifulsoup4 in /usr/local/lib/python3.10/dist-packages (4.11.2)\n",
            "Requirement already satisfied: charset-normalizer<4,>=2 in /usr/local/lib/python3.10/dist-packages (from requests) (3.3.2)\n",
            "Requirement already satisfied: idna<4,>=2.5 in /usr/local/lib/python3.10/dist-packages (from requests) (3.4)\n",
            "Requirement already satisfied: urllib3<3,>=1.21.1 in /usr/local/lib/python3.10/dist-packages (from requests) (2.0.7)\n",
            "Requirement already satisfied: certifi>=2017.4.17 in /usr/local/lib/python3.10/dist-packages (from requests) (2023.7.22)\n",
            "Requirement already satisfied: soupsieve>1.2 in /usr/local/lib/python3.10/dist-packages (from beautifulsoup4) (2.5)\n"
          ]
        }
      ]
    },
    {
      "cell_type": "code",
      "source": [
        "import bs4\n",
        "from bs4 import BeautifulSoup\n",
        "import requests\n",
        "import pandas as pd\n",
        "import time\n",
        "import random\n",
        "import matplotlib.pyplot as plt\n",
        "import IPython\n",
        "import itertools\n",
        "import numpy as np\n",
        "from selenium import webdriver\n",
        "from selenium import webdriver\n",
        "from selenium.webdriver.chrome.options import Options\n",
        "from selenium.webdriver.common.by import By\n",
        "from selenium.webdriver.support.ui import WebDriverWait\n",
        "from selenium.webdriver.support import expected_conditions as EC\n",
        "import re"
      ],
      "metadata": {
        "id": "NXLDQXhKLV9n"
      },
      "execution_count": null,
      "outputs": []
    },
    {
      "cell_type": "code",
      "execution_count": 112,
      "metadata": {
        "id": "-v9CalymLEVU"
      },
      "outputs": [],
      "source": [
        "user_agents_list = [\n",
        "    'Mozilla/5.0 (iPad; CPU OS 12_2 like Mac OS X) AppleWebKit/605.1.15 (KHTML, like Gecko) Mobile/15E148',\n",
        "    'Mozilla/5.0 (Macintosh; Intel Mac OS X 10_15_7) AppleWebKit/537.36 (KHTML, like Gecko) Chrome/99.0.4844.83 Safari/537.36',\n",
        "    'Mozilla/5.0 (Windows NT 10.0; Win64; x64) AppleWebKit/537.36 (KHTML, like Gecko) Chrome/99.0.4844.51 Safari/537.36'\n",
        "]\n",
        "\n",
        "options = Options()\n",
        "options.add_argument(\"--headless\")\n",
        "options.add_argument(\"--no-sandbox\")\n",
        "options.add_argument('--disable-blink-features=AutomationControlled')\n",
        "options.headless = True\n",
        "\n",
        "user_agent = {'User-Agent': random.choice(user_agents_list)}\n",
        "\n",
        "options.add_argument('user-agent={0}'.format(user_agent))\n",
        "\n",
        "driver = webdriver.Chrome(options=options)"
      ]
    },
    {
      "cell_type": "code",
      "source": [
        "def find_state(soup):\n",
        "  \"\"\" Encontra o estado em que se apresenta as informações\n",
        "  Retorna uma string do estado\"\"\"\n",
        "\n",
        "  form = soup.find(\"div\", id=\"form-sections\")\n",
        "  form_loc = form.find(\"select\", id=\"location\")\n",
        "  state = form_loc.find(\"option\", selected=\"selected\").text\n",
        "\n",
        "  return state\n",
        "\n",
        "def find_info(soup):\n",
        "  \"\"\" Encontra o parâmetro presente na tabela do site, assim como mês e ano da observação\n",
        "  Retorna uma lista com 3 valores por observação ([Ano, Mês, Parâmetro])\n",
        "  Obs: O parâmetro é convertido para float\n",
        "  \"\"\"\n",
        "  info = []\n",
        "\n",
        "  table = soup.find(\"tbody\")\n",
        "  rows = table.find_all(\"tr\", role=\"row\")\n",
        "\n",
        "  for row in rows:\n",
        "    date = row.find_all(\"td\")[0].text.split()\n",
        "    mth = date[0]\n",
        "    year = date[1]\n",
        "\n",
        "    data = row.find_all(\"td\")[1].text\n",
        "    data_float = float(re.findall(r\"\\d+.\\d+\", data)[0])\n",
        "\n",
        "    info.append([year, mth, data_float])\n",
        "\n",
        "  return info"
      ],
      "metadata": {
        "id": "Okt_MyEOTNoR"
      },
      "execution_count": null,
      "outputs": []
    },
    {
      "cell_type": "code",
      "source": [
        "len_states = 49\n",
        "\n",
        "param = [\"tavg\", \"pcp\"]\n",
        "\n",
        "df = pd.DataFrame()\n",
        "\n",
        "for state_num in range(1,len_states + 1,1):\n",
        "\n",
        "  if state_num == 49:\n",
        "    state_num = 50\n",
        "\n",
        "  for p in param:\n",
        "\n",
        "        df_tmp = pd.DataFrame()\n",
        "\n",
        "        time.sleep(1)\n",
        "\n",
        "        page_url = \"https://www.ncei.noaa.gov/access/monitoring/climate-at-a-glance/statewide/time-series/\"+str(state_num)+\"/\"+p+\"/all/10/2009-2018\"\n",
        "\n",
        "        driver.get(page_url)\n",
        "        driver.implicitly_wait(30)\n",
        "\n",
        "        # Espera o elemento aparecer na página\n",
        "        element = WebDriverWait(driver, 60).until(\n",
        "            EC.presence_of_element_located((By.XPATH, \"/html/body/main/div/div/div[6]/table/tbody/tr[1]\"))\n",
        "        )\n",
        "\n",
        "        soup = BeautifulSoup(driver.page_source, 'html.parser')\n",
        "\n",
        "        state = find_state(soup)\n",
        "        info = find_info(soup)\n",
        "\n",
        "        df_tmp[\"Year\"] = [i[0] for i in info]\n",
        "        df_tmp[\"Month\"] = [i[1] for i in info]\n",
        "        df_tmp[p] = [i[2] for i in info]\n",
        "        df_tmp[\"State\"] = state\n",
        "\n",
        "        df = pd.concat([df, df_tmp], ignore_index=True, axis=0)\n",
        "\n",
        "df = df.groupby(['State', 'Year', 'Month']).apply(lambda group: group.ffill().bfill())"
      ],
      "metadata": {
        "id": "J_o6Oo4MLRnW",
        "colab": {
          "base_uri": "https://localhost:8080/"
        },
        "outputId": "09555071-f7c4-456f-b64f-ed8b4c4160c7"
      },
      "execution_count": 113,
      "outputs": [
        {
          "output_type": "stream",
          "name": "stderr",
          "text": [
            "<ipython-input-113-2b7a6722c76d>:40: FutureWarning: Not prepending group keys to the result index of transform-like apply. In the future, the group keys will be included in the index, regardless of whether the applied function returns a like-indexed object.\n",
            "To preserve the previous behavior, use\n",
            "\n",
            "\t>>> .groupby(..., group_keys=False)\n",
            "\n",
            "To adopt the future behavior and silence this warning, use \n",
            "\n",
            "\t>>> .groupby(..., group_keys=True)\n",
            "  df = df.groupby(['State', 'Year', 'Month']).apply(lambda group: group.ffill().bfill())\n"
          ]
        }
      ]
    },
    {
      "cell_type": "code",
      "source": [
        "from google.colab import files\n",
        "\n",
        "df = df[['State', 'Year', 'Month', 'tavg', 'pcp']]\n",
        "\n",
        "df.to_csv('df_weather.csv', index=False)\n",
        "files.download('df_weather.csv')"
      ],
      "metadata": {
        "colab": {
          "base_uri": "https://localhost:8080/",
          "height": 17
        },
        "id": "RUGUwMOVXwjg",
        "outputId": "de64a27b-61ba-4228-d4e7-fea4f3f2fb36"
      },
      "execution_count": 118,
      "outputs": [
        {
          "output_type": "display_data",
          "data": {
            "text/plain": [
              "<IPython.core.display.Javascript object>"
            ],
            "application/javascript": [
              "\n",
              "    async function download(id, filename, size) {\n",
              "      if (!google.colab.kernel.accessAllowed) {\n",
              "        return;\n",
              "      }\n",
              "      const div = document.createElement('div');\n",
              "      const label = document.createElement('label');\n",
              "      label.textContent = `Downloading \"${filename}\": `;\n",
              "      div.appendChild(label);\n",
              "      const progress = document.createElement('progress');\n",
              "      progress.max = size;\n",
              "      div.appendChild(progress);\n",
              "      document.body.appendChild(div);\n",
              "\n",
              "      const buffers = [];\n",
              "      let downloaded = 0;\n",
              "\n",
              "      const channel = await google.colab.kernel.comms.open(id);\n",
              "      // Send a message to notify the kernel that we're ready.\n",
              "      channel.send({})\n",
              "\n",
              "      for await (const message of channel.messages) {\n",
              "        // Send a message to notify the kernel that we're ready.\n",
              "        channel.send({})\n",
              "        if (message.buffers) {\n",
              "          for (const buffer of message.buffers) {\n",
              "            buffers.push(buffer);\n",
              "            downloaded += buffer.byteLength;\n",
              "            progress.value = downloaded;\n",
              "          }\n",
              "        }\n",
              "      }\n",
              "      const blob = new Blob(buffers, {type: 'application/binary'});\n",
              "      const a = document.createElement('a');\n",
              "      a.href = window.URL.createObjectURL(blob);\n",
              "      a.download = filename;\n",
              "      div.appendChild(a);\n",
              "      a.click();\n",
              "      div.remove();\n",
              "    }\n",
              "  "
            ]
          },
          "metadata": {}
        },
        {
          "output_type": "display_data",
          "data": {
            "text/plain": [
              "<IPython.core.display.Javascript object>"
            ],
            "application/javascript": [
              "download(\"download_6562ae70-ab38-4f26-ba23-8afe733843e8\", \"df_weather.csv\", 371128)"
            ]
          },
          "metadata": {}
        }
      ]
    }
  ]
}